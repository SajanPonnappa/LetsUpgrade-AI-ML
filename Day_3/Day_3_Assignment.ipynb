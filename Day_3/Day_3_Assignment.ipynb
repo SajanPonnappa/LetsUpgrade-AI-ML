{
 "cells": [
  {
   "cell_type": "markdown",
   "metadata": {},
   "source": [
    "__1__) Write a program to subtract two complex numbers in Python."
   ]
  },
  {
   "cell_type": "code",
   "execution_count": 2,
   "metadata": {},
   "outputs": [
    {
     "name": "stdout",
     "output_type": "stream",
     "text": [
      "Enter real part of 1st number: 4\n",
      "Enter img part of 1st number: 3\n",
      "Enter real part of 2nd number: 3\n",
      "Enter img part of 2nd number: 1\n",
      "Answer is :  (1+2j)\n"
     ]
    }
   ],
   "source": [
    "#Program to subtract complex numbers\n",
    "\n",
    "num1 = int(input(\"Enter real part of 1st number: \"))\n",
    "num2 = int(input(\"Enter img part of 1st number: \"))\n",
    "num3 = int(input(\"Enter real part of 2nd number: \"))\n",
    "num4 = int(input(\"Enter img part of 2nd number: \"))\n",
    "\n",
    "\n",
    "def subtract( z1, z2): \n",
    "    return z1-z2 \n",
    "  \n",
    "# main\n",
    "z1 = complex(num1, num2) \n",
    "z2 = complex(num3, num4) \n",
    "print( \"Answer is : \", subtract(z1, z2))"
   ]
  },
  {
   "cell_type": "markdown",
   "metadata": {},
   "source": [
    "__2__) Write a program to find the fourth root of a number.\n"
   ]
  },
  {
   "cell_type": "code",
   "execution_count": 4,
   "metadata": {},
   "outputs": [
    {
     "name": "stdout",
     "output_type": "stream",
     "text": [
      "Enter number: 256\n",
      "Fourth root of 256 is 4\n"
     ]
    }
   ],
   "source": [
    "#Program to find fourth root of a number\n",
    "\n",
    "def f(num):\n",
    "    return int(num**0.25)\n",
    "num = int(input(\"Enter number: \"))\n",
    "print(\"Fourth root of\",num,\"is\",f(num))"
   ]
  },
  {
   "cell_type": "markdown",
   "metadata": {},
   "source": [
    "__3__) Write a program to swap two numbers in Python with the help of a temporary variable.\n"
   ]
  },
  {
   "cell_type": "code",
   "execution_count": 7,
   "metadata": {},
   "outputs": [
    {
     "name": "stdout",
     "output_type": "stream",
     "text": [
      "Enter first number 22\n",
      "Enter second number 33\n",
      "\n",
      "\n",
      "Value of a before swapping 22\n",
      "Value of b before swapping 33\n",
      "\n",
      "\n",
      "Value of a after swapping 33\n",
      "Value of b after swapping 22\n"
     ]
    }
   ],
   "source": [
    "#Program to swap two numbers with temporary variable\n",
    "\n",
    "a = int(input(\"Enter first number \"))\n",
    "b = int(input(\"Enter second number \"))\n",
    "print(\"\\n\")\n",
    "print(\"Value of a before swapping\",a)\n",
    "print(\"Value of b before swapping\",b)\n",
    "print(\"\\n\")\n",
    "temp = a\n",
    "a = b\n",
    "b = temp\n",
    "\n",
    "print(\"Value of a after swapping\",a)\n",
    "print(\"Value of b after swapping\",b)"
   ]
  },
  {
   "cell_type": "markdown",
   "metadata": {},
   "source": [
    "__4__) Write a program to swap two numbers in Python without using a temporary variable."
   ]
  },
  {
   "cell_type": "code",
   "execution_count": 8,
   "metadata": {},
   "outputs": [
    {
     "name": "stdout",
     "output_type": "stream",
     "text": [
      "Enter first number 22\n",
      "Enter second number 33\n",
      "\n",
      "\n",
      "Value of a before swapping 22\n",
      "Value of b before swapping 33\n",
      "\n",
      "\n",
      "Value of a after swapping 33\n",
      "Value of b after swapping 22\n"
     ]
    }
   ],
   "source": [
    "#Program to swap two numbers with without temporary variable\n",
    "\n",
    "a = int(input(\"Enter first number \"))\n",
    "b = int(input(\"Enter second number \"))\n",
    "print(\"\\n\")\n",
    "print(\"Value of a before swapping\",a)\n",
    "print(\"Value of b before swapping\",b)\n",
    "print(\"\\n\")\n",
    "a ^= b\n",
    "b ^= a\n",
    "a ^= b\n",
    "\n",
    "print(\"Value of a after swapping\",a)\n",
    "print(\"Value of b after swapping\",b)"
   ]
  },
  {
   "cell_type": "markdown",
   "metadata": {},
   "source": [
    "__5__) Write a program to convert fahrenheit to kelvin and celsius both.\n"
   ]
  },
  {
   "cell_type": "code",
   "execution_count": 9,
   "metadata": {},
   "outputs": [
    {
     "name": "stdout",
     "output_type": "stream",
     "text": [
      "Enter temperature in Fahrenheit 100\n",
      "Temperature in Kelvin is 311.278 Temperarture in Celcius is 37.778\n"
     ]
    }
   ],
   "source": [
    "# Program to convert fahrenheit to kelvin and celsius.\n",
    "\n",
    "def F_to_K(F): \n",
    "    return 273.5 + ((F - 32.0) * (5.0/9.0)) \n",
    "\n",
    "def F_to_C(F):\n",
    "    return (F - 32) * 5/9\n",
    "\n",
    "# main program \n",
    "F = int(input(\"Enter temperature in Fahrenheit \"))\n",
    "\n",
    "print(\"Temperature in Kelvin is {:.3f} Temperarture in Celcius is {:.3f}\".format(F_to_K(F),F_to_C(F)))"
   ]
  },
  {
   "cell_type": "markdown",
   "metadata": {},
   "source": [
    "__6__) Write a program to demonstrate all the available data types in Python. Hint: Use type() function."
   ]
  },
  {
   "cell_type": "code",
   "execution_count": 14,
   "metadata": {},
   "outputs": [
    {
     "name": "stdout",
     "output_type": "stream",
     "text": [
      "Type of a:  <class 'int'>\n",
      "Type of b:  <class 'float'>\n",
      "Type of c:  <class 'complex'>\n",
      "Type of d:  <class 'list'>\n",
      "Type of e:  <class 'tuple'>\n",
      "Type of f:  <class 'str'>\n",
      "Type of g:  <class 'set'>\n",
      "Type of h:  <class 'dict'>\n"
     ]
    }
   ],
   "source": [
    "# Program to demonstrate all the available data types.\n",
    "a = 1\n",
    "print(\"Type of a: \", type(a))   \n",
    "b = 1.0\n",
    "print(\"Type of b: \", type(b))   \n",
    "c = 5 + 4j\n",
    "print(\"Type of c: \", type(c)) \n",
    "d = [1, 2, 3]\n",
    "print(\"Type of d: \", type(d)) \n",
    "e = (1,2,3)\n",
    "print(\"Type of e: \", type(e)) \n",
    "f = \"LetsUpgrade\"\n",
    "print(\"Type of f: \", type(f)) \n",
    "g = {5,2,3,1,4}\n",
    "print(\"Type of g: \", type(g)) \n",
    "h = {1:'value','key':2}\n",
    "print(\"Type of h: \", type(h))"
   ]
  },
  {
   "cell_type": "markdown",
   "metadata": {},
   "source": [
    "__7__) Create a Markdown cell in jupyter and list the steps discussed in the session by Dr. Darshan\n",
    "Ingle sir to create Github profile and upload Githubs Assignment link."
   ]
  },
  {
   "cell_type": "markdown",
   "metadata": {},
   "source": [
    "#### 1) Navigate to github.com and signup if you dont have an account already,else sign in.\n",
    "#### 2) Create a new repository and name it LetsUpgrade AI/ML.\n",
    "#### 3) Make it public and commit.\n",
    "#### 4) Click on upload existing files, drag and drop the assignment there.\n",
    "#### 5) Copy the URL of that folder to later fill in the submission form.\n",
    "#### 5) Open the submission link given by LetsUpgrade, give the correct details in the form, check the drop down to post on                              appropriate day assignments.\n",
    "#### 6) Submit the assignments given on weekdays by Sunday 11:59PM every weekend.\n",
    "#### 7) Drop downs will be available till the respective weekend,it will dissapear after Sunday 11:59PM"
   ]
  },
  {
   "cell_type": "code",
   "execution_count": null,
   "metadata": {},
   "outputs": [],
   "source": []
  }
 ],
 "metadata": {
  "kernelspec": {
   "display_name": "Python 3",
   "language": "python",
   "name": "python3"
  },
  "language_info": {
   "codemirror_mode": {
    "name": "ipython",
    "version": 3
   },
   "file_extension": ".py",
   "mimetype": "text/x-python",
   "name": "python",
   "nbconvert_exporter": "python",
   "pygments_lexer": "ipython3",
   "version": "3.8.1"
  }
 },
 "nbformat": 4,
 "nbformat_minor": 4
}
