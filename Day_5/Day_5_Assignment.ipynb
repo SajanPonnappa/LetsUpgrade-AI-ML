{
 "cells": [
  {
   "cell_type": "markdown",
   "metadata": {},
   "source": [
    "__1__) Write a Python program to find the first 20 non-even prime natural numbers.\n"
   ]
  },
  {
   "cell_type": "code",
   "execution_count": 28,
   "metadata": {},
   "outputs": [
    {
     "name": "stdout",
     "output_type": "stream",
     "text": [
      "How many non-even prime natural numbers? 20\n",
      "non-even prime numbers are \n",
      "3 5 7 11 13 17 19 23 29 31 37 41 43 47 53 59 61 67 71 73 "
     ]
    }
   ],
   "source": [
    "n = int(input(\"How many non-even prime natural numbers? \"))\n",
    "p = [2]\n",
    "c = 2\n",
    "\n",
    "while len(p) < n+1:\n",
    "    j = 0\n",
    "    c += 1\n",
    "    while j < len(p):\n",
    "        if c % p[j] == 0:\n",
    "            break\n",
    "        elif j == len(p) - 1:\n",
    "            p.append(c)\n",
    "        j += 1\n",
    "print(\"non-even prime numbers are \")\n",
    "for i in p[1::]:\n",
    "    print(i,end=\" \")\n",
    "    "
   ]
  },
  {
   "cell_type": "markdown",
   "metadata": {},
   "source": [
    "__2__) Write a Python program to implement 15 functions of string.\n"
   ]
  },
  {
   "cell_type": "code",
   "execution_count": 68,
   "metadata": {},
   "outputs": [
    {
     "name": "stdout",
     "output_type": "stream",
     "text": [
      "capitalise() first character will be changed to uppercase ==> I like letsupgrade ai ml course\n",
      "lower changes the string to lower case==> i like letsupgrade ai ml course\n",
      "upper() changes the string to uppercase==> I LIKE LETSUPGRADE AI ML COURSE\n",
      "count() gives the specified count of given word in string==> 1\n",
      "split(),split based on space==> ['i', 'like', 'LetsUpgrade', 'AI', 'ML', 'course']\n",
      "islower() checks if string is in lowercase and return true if so==> False\n",
      "isupper() checks if string is in uppercase and return true if so==> False\n",
      "isdigit() checks if all characters in string are digits and returns true if so==> False True\n",
      "isalpha() checks if all characters in string are alphabets(no space) and returns true if so==> False True\n",
      "isalpnum() checks if all characters in string are alphanumeric and returns true if so==> False True\n",
      "title() makes first letter in each word upper case==> I Like Letsupgrade Ai Ml Course\n",
      "join() takes all items in an iterable and joins them into one string ==> i Like LetsUpgrade\n",
      "swapcase() lower case becomes upper case and vice versa ==> I LIKE lETSuPGRADE ai ml COURSE\n",
      "endswith() checks if the string endswith specified value and return true if so ==> True False\n",
      "find() searches the string for a specified value and returns the position of where it was found==> 25\n"
     ]
    }
   ],
   "source": [
    "s = \"i like LetsUpgrade AI ML course\"\n",
    "d = \"1234\"\n",
    "al = \"alphabet\"\n",
    "an = \"hello123\"\n",
    "lst = [\"i\",\"Like\",\"LetsUpgrade\"]\n",
    "\n",
    "\n",
    "print(\"capitalise() first character will be changed to uppercase ==>\",s.capitalize())\n",
    "print(\"lower changes the string to lower case==>\",s.lower())\n",
    "print(\"upper() changes the string to uppercase==>\",s.upper())\n",
    "print(\"count() gives the specified count of given word in string==>\",s.count(\"course\"))\n",
    "print(\"split(),split based on space==>\",s.split())\n",
    "print(\"islower() checks if string is in lowercase and return true if so==>\",s.islower())\n",
    "print(\"isupper() checks if string is in uppercase and return true if so==>\",s.isupper())\n",
    "print(\"isdigit() checks if all characters in string are digits and returns true if so==>\",s.isdigit(),d.isdigit())\n",
    "print(\"isalpha() checks if all characters in string are alphabets(no space) and returns true if so==>\",s.isalpha(),al.isalpha())\n",
    "print(\"isalpnum() checks if all characters in string are alphanumeric and returns true if so==>\",s.isalnum(),an.isalnum())\n",
    "print(\"title() makes first letter in each word upper case==>\",s.title())\n",
    "print(\"join() takes all items in an iterable and joins them into one string ==>\",\" \".join(lst))\n",
    "print(\"swapcase() lower case becomes upper case and vice versa ==>\",s.swapcase())\n",
    "print(\"endswith() checks if the string endswith specified value and return true if so ==>\",an.endswith(\"3\"),s.endswith(\".\"))\n",
    "print(\"find() searches the string for a specified value and returns the position of where it was found==>\",s.find(\"course\"))\n"
   ]
  },
  {
   "cell_type": "markdown",
   "metadata": {},
   "source": [
    "__3__) Write a Python program to check if the given string is a Palindrome or Anagram or None of them.\n",
    "Display the message accordingly to the user."
   ]
  },
  {
   "cell_type": "code",
   "execution_count": 2,
   "metadata": {},
   "outputs": [
    {
     "name": "stdout",
     "output_type": "stream",
     "text": [
      "Enter a first string:asleep\n",
      "Enter a second string:please\n",
      "S1 and S2 are anagrams asleep please\n"
     ]
    }
   ],
   "source": [
    "S1=input((\"Enter a first string:\"))\n",
    "if(S1==S1[::-1]):\n",
    "      print(\"The string is a palindrome\")\n",
    "else:\n",
    "    S2=input((\"Enter a second string:\"))\n",
    "    if(S2==S2[::-1]):\n",
    "        print(\"The string is a palindrome\")\n",
    "    elif(sorted(S1.lower())==sorted(S2.lower())):\n",
    "        print(\"S1 and S2 are anagrams\",S1,S2)\n",
    "    else:\n",
    "        print(\"Given string is not a palindrome or anagrams\")\n",
    "        "
   ]
  },
  {
   "cell_type": "markdown",
   "metadata": {},
   "source": [
    "__4__) Write a Python's user defined function that removes all the additional characters from the string\n",
    "and converts it finally to lower case using built-in lower(). eg: If the string is \"Dr. Darshan Ingle\n",
    "@AI-ML Trainer\", then the output be \"drdarshaningleaimltrainer\"."
   ]
  },
  {
   "cell_type": "code",
   "execution_count": 15,
   "metadata": {},
   "outputs": [
    {
     "name": "stdout",
     "output_type": "stream",
     "text": [
      "Enter a first string:Dr. Darshan Ingle @AI-ML Trainer\n",
      "\n",
      " drdarshaningleaimltrainer\n"
     ]
    }
   ],
   "source": [
    "def remove_unwanted(string):\n",
    "    #Using list comprehension,changing the string to lowercase and checking only alphabets\n",
    "    return(list([val for val in string.lower()\n",
    "               if val.isalpha()]))\n",
    "\n",
    "#main program    \n",
    "S1=input((\"Enter a first string:\"))\n",
    "\n",
    "value = remove_unwanted(S1)\n",
    "\n",
    "#print the returned iterable using join and print\n",
    "print(\"\\n\",\"\".join(value))"
   ]
  }
 ],
 "metadata": {
  "kernelspec": {
   "display_name": "Python 3",
   "language": "python",
   "name": "python3"
  },
  "language_info": {
   "codemirror_mode": {
    "name": "ipython",
    "version": 3
   },
   "file_extension": ".py",
   "mimetype": "text/x-python",
   "name": "python",
   "nbconvert_exporter": "python",
   "pygments_lexer": "ipython3",
   "version": "3.8.1"
  }
 },
 "nbformat": 4,
 "nbformat_minor": 4
}
