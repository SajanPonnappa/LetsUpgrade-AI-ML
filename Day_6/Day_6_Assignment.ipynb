{
 "cells": [
  {
   "cell_type": "markdown",
   "metadata": {},
   "source": [
    "__Question 1:__\n",
    "Assuming that we have some email addresses in the \"username@companyname.com\" format, please write program\n",
    "to print the company name of a given email address. Both user names and company names are composed of letters\n",
    "only.\n",
    "Input Format:\n",
    "The first line of the input contains an email address.\n",
    "Output Format:\n",
    "Print the company name in single line.\n",
    "Example;\n",
    "Input:\n",
    "john@google.com\n",
    "Output:\n",
    "google"
   ]
  },
  {
   "cell_type": "code",
   "execution_count": 8,
   "metadata": {},
   "outputs": [
    {
     "name": "stdout",
     "output_type": "stream",
     "text": [
      "john@google.com\n",
      "google\n"
     ]
    }
   ],
   "source": [
    "email = input()\n",
    "print(email.split('@')[1].split('.')[0])"
   ]
  },
  {
   "cell_type": "markdown",
   "metadata": {},
   "source": [
    "__Question 2:__\n",
    "Write a program that accepts a comma-separated sequence of words as input and prints the words in a comma\n",
    "separated sequence after sorting them alphabetically.\n",
    "Input Format:\n",
    "The first line of input contains words separated by the comma.\n",
    "Output Format:\n",
    "Print the sorted words separated by the comma.\n",
    "Example:\n",
    "Input:\n",
    "without,hello,bag,world\n",
    "Output:\n",
    "bag,hello,without,world\n"
   ]
  },
  {
   "cell_type": "code",
   "execution_count": 38,
   "metadata": {},
   "outputs": [
    {
     "name": "stdout",
     "output_type": "stream",
     "text": [
      "without,hello,bag,world\n",
      "bag,hello,without,world\n"
     ]
    }
   ],
   "source": [
    "string = input()\n",
    "print(\",\".join(sorted(string.split(','))))"
   ]
  },
  {
   "cell_type": "markdown",
   "metadata": {},
   "source": [
    "__Question 3:__\n",
    "Create your own Jupyter Notebook for Sets"
   ]
  },
  {
   "attachments": {},
   "cell_type": "markdown",
   "metadata": {},
   "source": [
    "# SETS\n",
    "\n",
    "__Set can be thought of simply as a well-defined collection of distinct objects, typically called elements or members.__\n",
    "\n",
    "<img src=\"set.png\" width=\"800\" />\n",
    "\n",
    "__A Set is an unordered collection data type that is iterable, mutable and has no duplicate elements__\n",
    "\n",
    "__Since it is unordered,we cannot access using index__\n",
    "\n",
    "### Defining a Set \n",
    "__It can be created two ways__\n",
    " - using built-in set() function\n",
    " - using curly braces"
   ]
  },
  {
   "cell_type": "code",
   "execution_count": 5,
   "metadata": {},
   "outputs": [
    {
     "data": {
      "text/plain": [
       "{'a', 'b', 'c', 'd', 'e'}"
      ]
     },
     "execution_count": 5,
     "metadata": {},
     "output_type": "execute_result"
    }
   ],
   "source": [
    "# x = set(<iter>)built-in\n",
    "x = set(['a', 'b', 'c', 'd', 'e'])\n",
    "x"
   ]
  },
  {
   "cell_type": "code",
   "execution_count": 6,
   "metadata": {},
   "outputs": [
    {
     "data": {
      "text/plain": [
       "{'a', 'b', 'c', 'd', 'e'}"
      ]
     },
     "execution_count": 6,
     "metadata": {},
     "output_type": "execute_result"
    }
   ],
   "source": [
    "#curly braces x = {<obj>, <obj>, ..., <obj>}\n",
    "x = {'a','b','c','d','e'}\n",
    "x"
   ]
  },
  {
   "cell_type": "markdown",
   "metadata": {},
   "source": [
    "### Size and membership\n",
    "__len() function returns the number of elements, \"in\" and \"not in\" operators can be used to test membership__\n"
   ]
  },
  {
   "cell_type": "code",
   "execution_count": 11,
   "metadata": {},
   "outputs": [
    {
     "data": {
      "text/plain": [
       "3"
      ]
     },
     "execution_count": 11,
     "metadata": {},
     "output_type": "execute_result"
    }
   ],
   "source": [
    "#len()\n",
    "x = {'a', 'b', 'c'}\n",
    "len(x)"
   ]
  },
  {
   "cell_type": "code",
   "execution_count": 12,
   "metadata": {},
   "outputs": [
    {
     "name": "stdout",
     "output_type": "stream",
     "text": [
      "True\n",
      "False\n"
     ]
    }
   ],
   "source": [
    "#membership\n",
    "print('b' in x)\n",
    "print('d'in x)"
   ]
  },
  {
   "cell_type": "markdown",
   "metadata": {},
   "source": [
    "### Modifying a Set\n",
    "__Once a set is created, you cannot change its items, but you can add new items.__\n",
    "- UPDATE\n",
    "\n",
    "Updates the element"
   ]
  },
  {
   "cell_type": "code",
   "execution_count": 14,
   "metadata": {},
   "outputs": [
    {
     "name": "stdout",
     "output_type": "stream",
     "text": [
      "{'c', 'ball', 'bat', 'a', 'b', 'hat'}\n"
     ]
    }
   ],
   "source": [
    "#Update\n",
    "x = {\"a\", \"b\", \"c\"}\n",
    "\n",
    "x.update([\"bat\", \"ball\", \"hat\"])\n",
    "\n",
    "print(x)"
   ]
  },
  {
   "cell_type": "markdown",
   "metadata": {},
   "source": [
    "- ADD\n",
    "\n",
    "Adds an element to a set."
   ]
  },
  {
   "cell_type": "code",
   "execution_count": 15,
   "metadata": {},
   "outputs": [
    {
     "name": "stdout",
     "output_type": "stream",
     "text": [
      "{'wicket', 'ball', 'hat', 'bat'}\n"
     ]
    }
   ],
   "source": [
    "x = {\"bat\", \"ball\", \"hat\"}\n",
    "\n",
    "x.add(\"wicket\")\n",
    "\n",
    "print(x)"
   ]
  },
  {
   "cell_type": "markdown",
   "metadata": {},
   "source": [
    "- REMOVE \n",
    "- DISCARD\n",
    "\n",
    "Removes an element from the set"
   ]
  },
  {
   "cell_type": "code",
   "execution_count": 17,
   "metadata": {},
   "outputs": [
    {
     "name": "stdout",
     "output_type": "stream",
     "text": [
      "{'ball', 'bat'}\n",
      "{'bat'}\n"
     ]
    }
   ],
   "source": [
    "x = {\"bat\", \"ball\", \"hat\"}\n",
    "\n",
    "x.remove(\"hat\")\n",
    "print(x)\n",
    "x.discard(\"ball\")\n",
    "print(x)"
   ]
  },
  {
   "cell_type": "markdown",
   "metadata": {},
   "source": [
    "- OTHER common operations"
   ]
  },
  {
   "cell_type": "code",
   "execution_count": 25,
   "metadata": {},
   "outputs": [
    {
     "name": "stdout",
     "output_type": "stream",
     "text": [
      "set()\n",
      "union operation: {1, 'c', 2, 3, 'b', 'a'}\n",
      "copy of fruits is : {'banana', 'cherry', 'apple'}\n"
     ]
    }
   ],
   "source": [
    "#Clear the set\n",
    "x = {\"bat\", \"ball\", \"hat\"}\n",
    "x.clear()\n",
    "print(x)\n",
    "\n",
    "#Delete the set\n",
    "x = {\"bat\", \"ball\", \"hat\"}\n",
    "del x\n",
    "\n",
    "#JOIN two sets using UNION\n",
    "set1 = {\"a\", \"b\" , \"c\"}\n",
    "set2 = {1, 2, 3}\n",
    "\n",
    "set3 = set1.union(set2)\n",
    "print(\"union operation:\", set3)\n",
    "\n",
    "#Copy Returns a copy of set\n",
    "\n",
    "fruits = {\"apple\", \"banana\", \"cherry\"}\n",
    "x = fruits.copy()\n",
    "print(\"copy of fruits is :\",x)"
   ]
  },
  {
   "cell_type": "markdown",
   "metadata": {},
   "source": [
    "### Rest other built-in methods available\n",
    "- __difference()\tReturns a set containing the difference between two or more sets__\n",
    "\n",
    "- __difference_update()\tRemoves the items in this set that are also included in another, specified set__\n",
    "\n",
    "- __intersection()\tReturns a set, that is the intersection of two other sets__\n",
    "\n",
    "- __intersection_update()\tRemoves the items in this set that are not present in other, specified set(s)__\n",
    "\n",
    "- __isdisjoint()\tReturns whether two sets have a intersection or not__\n",
    "\n",
    "- __issubset()\tReturns whether another set contains this set or not__\n",
    "\n",
    "- __issuperset()\tReturns whether this set contains another set or not__\n",
    "\n",
    "- __symmetric_difference()\tReturns a set with the symmetric differences of two sets__\n",
    "\n",
    "- __symmetric_difference_update()\tinserts the symmetric differences from this set and another__\n"
   ]
  },
  {
   "cell_type": "markdown",
   "metadata": {},
   "source": [
    "__Question 4:__\n",
    "Given a list of n-1 numbers ranging from 1 to n, your task is to find the missing number. There are no duplicates.\n",
    "Input Format:\n",
    "The first line contains n-1 numbers with each number separated by a space.\n",
    "Output Format:\n",
    "Print the missing number\n",
    "Example:\n",
    "Input:1 2 4 6 3 7 8\n",
    "Output:5\n"
   ]
  },
  {
   "cell_type": "code",
   "execution_count": 26,
   "metadata": {},
   "outputs": [
    {
     "name": "stdout",
     "output_type": "stream",
     "text": [
      "1 2 4 6 3 7 8\n",
      "5\n"
     ]
    }
   ],
   "source": [
    "def missing_number(lst): \n",
    "    n = len(lst) \n",
    "    total = (n + 1)*(n + 2)/2\n",
    "    sum_lst = sum(lst) \n",
    "    return total - sum_lst \n",
    "  \n",
    "#main program\n",
    "lst = list(map(int,input().strip().split())) \n",
    "print(int(missing_number(lst)))"
   ]
  },
  {
   "cell_type": "markdown",
   "metadata": {},
   "source": [
    "__Question 5:__\n",
    "With a given list L, write a program to print this list L after removing all duplicate values with original order reserved.\n",
    "Example:\n",
    "If the input list is\n",
    "12 24 35 24 88 120 155 88 120 155\n",
    "Then the output should be\n",
    "12 24 35 88 120 155\n"
   ]
  },
  {
   "cell_type": "code",
   "execution_count": 37,
   "metadata": {},
   "outputs": [
    {
     "name": "stdout",
     "output_type": "stream",
     "text": [
      "12 24 35 24 88 120 155 88 120 155\n",
      "12 24 35 88 120 155 "
     ]
    }
   ],
   "source": [
    "def remove_duplicate(lst): \n",
    "    final_list = [] \n",
    "    for num in lst: \n",
    "        if num not in final_list: \n",
    "            final_list.append(num) \n",
    "    return final_list \n",
    "      \n",
    "#main program\n",
    "lst = list(map(int,input().strip().split())) \n",
    "for i in remove_duplicate(lst):\n",
    "    print(i,end= \" \")"
   ]
  }
 ],
 "metadata": {
  "kernelspec": {
   "display_name": "Python 3",
   "language": "python",
   "name": "python3"
  },
  "language_info": {
   "codemirror_mode": {
    "name": "ipython",
    "version": 3
   },
   "file_extension": ".py",
   "mimetype": "text/x-python",
   "name": "python",
   "nbconvert_exporter": "python",
   "pygments_lexer": "ipython3",
   "version": "3.8.1"
  }
 },
 "nbformat": 4,
 "nbformat_minor": 4
}
