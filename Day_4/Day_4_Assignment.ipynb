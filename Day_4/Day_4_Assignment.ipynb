{
 "cells": [
  {
   "cell_type": "markdown",
   "metadata": {},
   "source": [
    "__1__) Research on whether addition, subtraction, multiplication, division, floor division and modulo\n",
    "operations be performed on complex numbers. Based on your study, implement a Python\n",
    "program to demonstrate these operations."
   ]
  },
  {
   "cell_type": "code",
   "execution_count": 21,
   "metadata": {},
   "outputs": [
    {
     "name": "stdout",
     "output_type": "stream",
     "text": [
      "Addition = (9+21j)\n",
      "Subtraction = (-3-9j)\n",
      "Multiplication = (-72+81j)\n",
      "Division = (0.4137931034482759-0.03448275862068964j)\n"
     ]
    }
   ],
   "source": [
    "c1 = complex(3,6)\n",
    "c2 = complex(6,15)\n",
    "\n",
    "#operations that can be performed on complex numbers\n",
    "print(\"Addition =\", c1 + c2)\n",
    "print(\"Subtraction =\", c1 - c2)\n",
    "print(\"Multiplication =\", c1 * c2)\n",
    "print(\"Division =\", c1 / c2)"
   ]
  },
  {
   "cell_type": "markdown",
   "metadata": {},
   "source": [
    "### We cannot perform floor divison and modulo operations on complex numbers"
   ]
  },
  {
   "cell_type": "markdown",
   "metadata": {},
   "source": [
    "__2__) Research on range() functions and its parameters. Create a markdown cell and write in your own\n",
    "words (no copy-paste from google please) what you understand about it. Implement a small\n",
    "program of your choice on the same.\n"
   ]
  },
  {
   "cell_type": "markdown",
   "metadata": {},
   "source": [
    "#### 1)range() is a built-in function, which generates sequence of numbers in the form of list.\n",
    "#### 2)range() function only works with integers.\n",
    "#### 3)range() function mainly takes three arguments, range(start,stop,step)\n",
    "- ___“start” starting number of the sequence. (Default is 0)__\n",
    "- ___\"stop\" generate numbers up to, but not including this number__\n",
    "- ___\"step\" Difference between each number in the sequence (Default is 1)__\n",
    "\n",
    "#### 4) step value cannot be zero, it will throw ValueError exception\n",
    "#### 5) formats which can be given\n",
    "- ___range(stop)___\n",
    "- ___range(start,stop)___\n",
    "- ___range(start,stop,step)___"
   ]
  },
  {
   "cell_type": "code",
   "execution_count": 43,
   "metadata": {},
   "outputs": [
    {
     "name": "stdout",
     "output_type": "stream",
     "text": [
      "Print first ten whole numbers\n",
      "0 1 2 3 4 5 6 7 8 9 \n",
      "\n",
      "Print numbers from 1-10\n",
      "1 2 3 4 5 6 7 8 9 10 \n",
      "\n",
      "Print the numbers from 1-20 with increment of 2\n",
      "1 3 5 7 9 11 13 15 17 19 "
     ]
    }
   ],
   "source": [
    "# demonstarte range(stop)\n",
    "print(\"Print first ten whole numbers\")\n",
    "for i in range(10):\n",
    "    print(i,end=\" \")\n",
    "\n",
    "# demonstrate range(start,stop)\n",
    "print(\"\\n\\nPrint numbers from 1-10\")\n",
    "for i in range(1,11):\n",
    "    print(i,end=\" \")\n",
    "    \n",
    "#demonstarte range(start,stop,step)\n",
    "\n",
    "print(\"\\n\\nPrint the numbers from 1-20 with increment of 2\")\n",
    "for i in range(1,20,2):\n",
    "    print(i,end=\" \")\n"
   ]
  },
  {
   "cell_type": "markdown",
   "metadata": {},
   "source": [
    "__3__) Consider two numbers. Perform their subtraction and if the result of subtraction is greater than\n",
    "25, print their multiplication result else print their division result"
   ]
  },
  {
   "cell_type": "code",
   "execution_count": 51,
   "metadata": {},
   "outputs": [
    {
     "name": "stdout",
     "output_type": "stream",
     "text": [
      "Enter first number 100\n",
      "Enter second number 200\n",
      "\n",
      "\n",
      "result is less than 25,hence division of num1 and num2 is  0.5\n"
     ]
    }
   ],
   "source": [
    "num1 = int(input(\"Enter first number \"))\n",
    "num2 = int(input(\"Enter second number \"))\n",
    "print(\"\\n\")\n",
    "if((num1-num2)>25):\n",
    "    print(\"result is greater than 25,hence multiplication of num1 and num2 is \",num1*num2)\n",
    "else:\n",
    "    print(\"result is less than 25,hence division of num1 and num2 is \",num1/num2)"
   ]
  },
  {
   "cell_type": "markdown",
   "metadata": {},
   "source": [
    "__4__) Consider a list of 10 elements of integer values. If the number in the list is divisible by 2, print the\n",
    "result as \"square of that number minus 2\".\n"
   ]
  },
  {
   "cell_type": "code",
   "execution_count": 1,
   "metadata": {},
   "outputs": [
    {
     "name": "stdout",
     "output_type": "stream",
     "text": [
      "Enter number of elements : 10\n",
      "1\n",
      "2\n",
      "3\n",
      "4\n",
      "5\n",
      "6\n",
      "7\n",
      "8\n",
      "9\n",
      "10\n",
      "\n",
      "\n",
      "number is 2 square of that number minus 2 is  2\n",
      "\n",
      "\n",
      "number is 4 square of that number minus 2 is  14\n",
      "\n",
      "\n",
      "number is 6 square of that number minus 2 is  34\n",
      "\n",
      "\n",
      "number is 8 square of that number minus 2 is  62\n",
      "\n",
      "\n",
      "number is 10 square of that number minus 2 is  98\n"
     ]
    }
   ],
   "source": [
    "num_list=[]\n",
    "\n",
    "n = int(input(\"Enter number of elements : \")) \n",
    "for i in range(0,n):\n",
    "    ele = int(input())\n",
    "    num_list.append(ele)\n",
    "\n",
    "for i in num_list:\n",
    "    if i%2==0:\n",
    "        print(\"\\n\")\n",
    "        print(\"number is\",i,\"square of that number minus 2 is \",(i**2)-2)"
   ]
  },
  {
   "cell_type": "markdown",
   "metadata": {},
   "source": [
    "__5__) Consider a list of 10 elements. Print all the elements in the list which are greater than 7 when that\n",
    "number is divided 2."
   ]
  },
  {
   "cell_type": "code",
   "execution_count": 3,
   "metadata": {},
   "outputs": [
    {
     "name": "stdout",
     "output_type": "stream",
     "text": [
      "Enter number of elements : 10\n",
      "10\n",
      "20\n",
      "30\n",
      "40\n",
      "5\n",
      "8\n",
      "25\n",
      "33\n",
      "88\n",
      "3\n",
      "\n",
      "Elements in the list which are greater than 7 when that number is divided 2 are\n",
      "20\n",
      "30\n",
      "40\n",
      "25\n",
      "33\n",
      "88\n"
     ]
    }
   ],
   "source": [
    "num_list=[]\n",
    "\n",
    "n = int(input(\"Enter number of elements : \")) \n",
    "for i in range(0,n):\n",
    "    ele = int(input())\n",
    "    num_list.append(ele)\n",
    "    \n",
    "result = []\n",
    "for i in num_list:\n",
    "    if((i/2)>7):\n",
    "        result.append(i)\n",
    "print(\"\\nElements in the list which are greater than 7 when that number is divided 2 are\")\n",
    "for i in result:\n",
    "    print(i)"
   ]
  }
 ],
 "metadata": {
  "kernelspec": {
   "display_name": "Python 3",
   "language": "python",
   "name": "python3"
  },
  "language_info": {
   "codemirror_mode": {
    "name": "ipython",
    "version": 3
   },
   "file_extension": ".py",
   "mimetype": "text/x-python",
   "name": "python",
   "nbconvert_exporter": "python",
   "pygments_lexer": "ipython3",
   "version": "3.8.1"
  }
 },
 "nbformat": 4,
 "nbformat_minor": 4
}
