{
 "cells": [
  {
   "cell_type": "markdown",
   "metadata": {},
   "source": [
    "# 1. Create a 3x3x3 array with random values"
   ]
  },
  {
   "cell_type": "code",
   "execution_count": 39,
   "metadata": {},
   "outputs": [
    {
     "name": "stdout",
     "output_type": "stream",
     "text": [
      "[[[0.04823727 0.10319532 0.93908671]\n",
      "  [0.90345262 0.76575697 0.22849953]\n",
      "  [0.7981839  0.62586047 0.73820396]]\n",
      "\n",
      " [[0.03697809 0.17605137 0.91372245]\n",
      "  [0.14926825 0.10096757 0.1082537 ]\n",
      "  [0.55679903 0.70018393 0.50546446]]\n",
      "\n",
      " [[0.4976322  0.73683121 0.43044025]\n",
      "  [0.83449637 0.68474577 0.04464144]\n",
      "  [0.90192659 0.85564582 0.00285997]]]\n"
     ]
    }
   ],
   "source": [
    "import numpy as np\n",
    "arr = np.random.random((3,3,3))\n",
    "print(arr)"
   ]
  },
  {
   "cell_type": "markdown",
   "metadata": {},
   "source": [
    "# 2.Create a 5x5 matrix with values 1,2,3,4 just below the diagonal"
   ]
  },
  {
   "cell_type": "code",
   "execution_count": 40,
   "metadata": {},
   "outputs": [
    {
     "name": "stdout",
     "output_type": "stream",
     "text": [
      "[[0 0 0 0 0]\n",
      " [1 0 0 0 0]\n",
      " [0 2 0 0 0]\n",
      " [0 0 3 0 0]\n",
      " [0 0 0 4 0]]\n"
     ]
    }
   ],
   "source": [
    "import numpy as np\n",
    "arr = np.diag(np.arange(4)+1, k = -1)\n",
    "print(arr)"
   ]
  },
  {
   "cell_type": "markdown",
   "metadata": {},
   "source": [
    "# 3.Create a 8x8 matrix and fill it with a checkerboard pattern"
   ]
  },
  {
   "cell_type": "code",
   "execution_count": 41,
   "metadata": {},
   "outputs": [
    {
     "name": "stdout",
     "output_type": "stream",
     "text": [
      "Checkerboard pattern:\n",
      "[[0 1 0 1 0 1 0 1]\n",
      " [1 0 1 0 1 0 1 0]\n",
      " [0 1 0 1 0 1 0 1]\n",
      " [1 0 1 0 1 0 1 0]\n",
      " [0 1 0 1 0 1 0 1]\n",
      " [1 0 1 0 1 0 1 0]\n",
      " [0 1 0 1 0 1 0 1]\n",
      " [1 0 1 0 1 0 1 0]]\n"
     ]
    }
   ],
   "source": [
    "import numpy as np\n",
    "print(\"Checkerboard pattern:\")\n",
    "arr = np.zeros((8,8),dtype=int)\n",
    "arr[1::2,::2] = 1\n",
    "arr[::2,1::2] = 1\n",
    "print(arr)"
   ]
  },
  {
   "cell_type": "markdown",
   "metadata": {},
   "source": [
    "# 4. Normalize a 5x5 random matrix"
   ]
  },
  {
   "cell_type": "code",
   "execution_count": 42,
   "metadata": {},
   "outputs": [
    {
     "name": "stdout",
     "output_type": "stream",
     "text": [
      "[[0.         0.04272693 0.2524306  0.40398965 0.58581636]\n",
      " [0.21779928 0.71698191 0.52382399 0.44589637 0.50368399]\n",
      " [0.36357054 0.7668773  0.11407011 1.         0.61752341]\n",
      " [0.85281721 0.9664379  0.21278908 0.98165214 0.78351894]\n",
      " [0.45080787 0.77498863 0.2929573  0.61629239 0.43500127]]\n"
     ]
    }
   ],
   "source": [
    "import numpy as np\n",
    "arr = np.random.random((5,5))\n",
    "arrmax, arrmin = arr.max(), arr.min()\n",
    "arr= (arr-arrmin)/(arrmax-arrmin)\n",
    "print (arr)"
   ]
  },
  {
   "cell_type": "markdown",
   "metadata": {},
   "source": [
    "# 5.  How to find common values between two arrays?"
   ]
  },
  {
   "cell_type": "code",
   "execution_count": 43,
   "metadata": {},
   "outputs": [
    {
     "name": "stdout",
     "output_type": "stream",
     "text": [
      "Array1:  [ 0 10 20 40 60]\n",
      "Array2:  [10, 30, 40]\n",
      "Common values between two arrays:\n",
      "[10 40]\n"
     ]
    }
   ],
   "source": [
    "import numpy as np\n",
    "array1 = np.array([0, 10, 20, 40, 60])\n",
    "print(\"Array1: \",array1)\n",
    "array2 = [10, 30, 40]\n",
    "print(\"Array2: \",array2)\n",
    "print(\"Common values between two arrays:\")\n",
    "print(np.intersect1d(array1, array2))"
   ]
  },
  {
   "cell_type": "markdown",
   "metadata": {},
   "source": [
    "# 6.How to get the dates of yesterday, today and tomorrow?"
   ]
  },
  {
   "cell_type": "code",
   "execution_count": 44,
   "metadata": {},
   "outputs": [
    {
     "name": "stdout",
     "output_type": "stream",
     "text": [
      "Yesterday:  2020-07-25\n",
      "Today:  2020-07-26\n",
      "Tomorrow:  2020-07-27\n"
     ]
    }
   ],
   "source": [
    "import numpy as np\n",
    "yesterday = np.datetime64('today', 'D') - np.timedelta64(1, 'D')\n",
    "print(\"Yesterday: \",yesterday)\n",
    "today     = np.datetime64('today', 'D')\n",
    "print(\"Today: \",today)\n",
    "tomorrow  = np.datetime64('today', 'D') + np.timedelta64(1, 'D')\n",
    "print(\"Tomorrow: \",tomorrow)"
   ]
  },
  {
   "cell_type": "markdown",
   "metadata": {},
   "source": [
    "# 7. Consider two random array A and B, check if they are equal"
   ]
  },
  {
   "cell_type": "code",
   "execution_count": 45,
   "metadata": {},
   "outputs": [
    {
     "name": "stdout",
     "output_type": "stream",
     "text": [
      "First array:\n",
      "[1 1 1 1 0 0]\n",
      "Second array:\n",
      "[0 0 1 0 1 0]\n",
      "Checking above two arrays are equal or not\n",
      "False\n"
     ]
    }
   ],
   "source": [
    "import numpy as np\n",
    "x = np.random.randint(0,2,6)\n",
    "print(\"First array:\")\n",
    "print(x)\n",
    "y = np.random.randint(0,2,6)\n",
    "print(\"Second array:\")\n",
    "print(y)\n",
    "print(\"Checking above two arrays are equal or not\")\n",
    "array_equal = np.allclose(x, y)\n",
    "print(array_equal)"
   ]
  },
  {
   "cell_type": "markdown",
   "metadata": {},
   "source": [
    "# 8.Create random vector of size 10 and replace the maximum value by 0"
   ]
  },
  {
   "cell_type": "code",
   "execution_count": 46,
   "metadata": {},
   "outputs": [
    {
     "name": "stdout",
     "output_type": "stream",
     "text": [
      "[0.98022358 0.02195717 0.         0.17366724 0.63703904 0.34155701\n",
      " 0.01192874 0.80625924 0.81150727 0.7020786 ]\n"
     ]
    }
   ],
   "source": [
    "import numpy as np\n",
    "arr = np.random.random(10)\n",
    "arr[arr.argmax()] = 0\n",
    "print(arr)"
   ]
  },
  {
   "cell_type": "markdown",
   "metadata": {},
   "source": [
    "# 9. How to print all the values of an array?"
   ]
  },
  {
   "cell_type": "code",
   "execution_count": 47,
   "metadata": {},
   "outputs": [
    {
     "name": "stdout",
     "output_type": "stream",
     "text": [
      "[[0. 0. 0. 0. 0.]\n",
      " [0. 0. 0. 0. 0.]\n",
      " [0. 0. 0. 0. 0.]\n",
      " [0. 0. 0. 0. 0.]\n",
      " [0. 0. 0. 0. 0.]]\n"
     ]
    }
   ],
   "source": [
    "import numpy as np\n",
    "import sys\n",
    "np.set_printoptions(threshold=sys.maxsize)\n",
    "arr = np.zeros((5,5))\n",
    "print(arr)"
   ]
  },
  {
   "cell_type": "markdown",
   "metadata": {},
   "source": [
    "# 10.Subtract the mean of each row of a matrix"
   ]
  },
  {
   "cell_type": "code",
   "execution_count": 48,
   "metadata": {},
   "outputs": [
    {
     "name": "stdout",
     "output_type": "stream",
     "text": [
      "Original matrix:\n",
      "\n",
      "[[ 1 19  5 18]\n",
      " [ 4 14 11 19]\n",
      " [ 7  4 17 19]]\n",
      "\n",
      "Subtract the mean of each row of the above matrix:\n",
      "\n",
      "[[-9.75  8.25 -5.75  7.25]\n",
      " [-8.    2.   -1.    7.  ]\n",
      " [-4.75 -7.75  5.25  7.25]]\n"
     ]
    }
   ],
   "source": [
    "import numpy as np\n",
    "print(\"Original matrix:\\n\")\n",
    "X = np.random.randint(1,20,size =(3,4))\n",
    "print(X)\n",
    "print(\"\\nSubtract the mean of each row of the above matrix:\\n\")\n",
    "Y = X - X.mean(axis=1, keepdims=True)\n",
    "print(Y)"
   ]
  },
  {
   "cell_type": "markdown",
   "metadata": {},
   "source": [
    "# 11.Consider a given vector, how to add 1 to each element indexed by a second vector (be careful with repeated indices)? "
   ]
  },
  {
   "cell_type": "code",
   "execution_count": 49,
   "metadata": {},
   "outputs": [
    {
     "name": "stdout",
     "output_type": "stream",
     "text": [
      "[2. 2. 4. 3. 4. 4. 1. 2. 3. 5.]\n"
     ]
    }
   ],
   "source": [
    "import numpy as np\n",
    "a1 = np.ones(10)\n",
    "b1 = np.random.randint(0,len(a1),20)\n",
    "a1 += np.bincount(b1, minlength=len(a1))\n",
    "print(a1)"
   ]
  },
  {
   "cell_type": "markdown",
   "metadata": {},
   "source": [
    "# 12.How to get the diagonal of a dot product?"
   ]
  },
  {
   "cell_type": "code",
   "execution_count": 50,
   "metadata": {},
   "outputs": [
    {
     "name": "stdout",
     "output_type": "stream",
     "text": [
      "[[3 1 9]\n",
      " [2 3 2]\n",
      " [7 2 5]]\n",
      "\n",
      "\n",
      "[[9 5 5]\n",
      " [4 3 9]\n",
      " [0 7 1]]\n",
      "\n",
      "\n",
      "[[31 81 33]\n",
      " [30 33 39]\n",
      " [71 76 58]]\n",
      "\n",
      "diagonal is \n"
     ]
    },
    {
     "data": {
      "text/plain": [
       "array([31, 33, 58])"
      ]
     },
     "execution_count": 50,
     "metadata": {},
     "output_type": "execute_result"
    }
   ],
   "source": [
    "import numpy as np\n",
    "A = np.random.randint(0,10,(3,3))\n",
    "B= np.random.randint(0,10,(3,3))\n",
    "print(A)\n",
    "print(\"\\n\")\n",
    "print(B)\n",
    "print(\"\\n\")\n",
    "print(np.dot(A,B))\n",
    "print(\"\\ndiagonal is \")\n",
    "np.diag(np.dot(A, B))"
   ]
  },
  {
   "cell_type": "markdown",
   "metadata": {},
   "source": [
    "# 13.How to find the most frequent value in an array?"
   ]
  },
  {
   "cell_type": "code",
   "execution_count": 51,
   "metadata": {},
   "outputs": [
    {
     "name": "stdout",
     "output_type": "stream",
     "text": [
      "[4 9 6 2 5 8 1 1 5 3 3 1 0 8 5 2 8 4 8 8 3 1 3 7 4 5 7 9 4 0 2 9 2 0 8 7 4\n",
      " 5 7 1 4 5 5 4 3 1 3 2 8 1]\n",
      "\n",
      "\n",
      "most frequent value is: 1\n"
     ]
    }
   ],
   "source": [
    "import numpy as np\n",
    "arr = np.random.randint(0,10,50)\n",
    "print (arr)\n",
    "print(\"\\n\")\n",
    "print('most frequent value is:', np.bincount(arr).argmax())"
   ]
  },
  {
   "cell_type": "markdown",
   "metadata": {},
   "source": [
    "# 14.How to get the n largest values of an array"
   ]
  },
  {
   "cell_type": "code",
   "execution_count": 54,
   "metadata": {},
   "outputs": [
    {
     "name": "stdout",
     "output_type": "stream",
     "text": [
      "How many array size required 50\n",
      "Enter n value 4\n",
      "array is:\n",
      "[ 0  1  2  3  4  5  6  7  8  9 10 11 12 13 14 15 16 17 18 19 20 21 22 23\n",
      " 24 25 26 27 28 29 30 31 32 33 34 35 36 37 38 39 40 41 42 43 44 45 46 47\n",
      " 48 49]\n",
      "4 Largest values in an array is  [49 48 47 46]\n"
     ]
    }
   ],
   "source": [
    "import numpy as np\n",
    "arr =int(input(\"How many array size required \"))\n",
    "n = int(input(\"Enter n value \"))\n",
    "import numpy as np\n",
    "x = np.arange(arr)\n",
    "print(\"array is:\")\n",
    "print(x)\n",
    "np.random.shuffle(x)\n",
    "#n = 1\n",
    "print (n,\"Largest values in an array is \",x[np.argsort(x)[-n:][::-1]])"
   ]
  },
  {
   "cell_type": "markdown",
   "metadata": {},
   "source": [
    "# 15.How to create a record array from a regular array?"
   ]
  },
  {
   "cell_type": "code",
   "execution_count": 55,
   "metadata": {},
   "outputs": [
    {
     "name": "stdout",
     "output_type": "stream",
     "text": [
      "Original array:\n",
      "[['Bat' '88.5' '90']\n",
      " ['Cat' '87' '99']\n",
      " ['Hat' '85.5' '91']]\n",
      "\n",
      "Record array;\n",
      "[(b'Bat', 88.5, 90) (b'Cat', 87. , 99) (b'Hat', 85.5, 91)]\n"
     ]
    }
   ],
   "source": [
    "import numpy as np\n",
    "arra1 = np.array([(\"Bat\", 88.5, 90),\n",
    "                 (\"Cat\", 87, 99),\n",
    "             (\"Hat\", 85.5, 91)])\n",
    "print(\"Original array:\")\n",
    "print(arra1)\n",
    "print(\"\\nRecord array;\")\n",
    "result = np.core.records.fromarrays(arra1.T,\n",
    "                              names='col1, col2, col3',\n",
    "                              formats = 'S80, f8, i8')\n",
    "print(result)"
   ]
  }
 ],
 "metadata": {
  "kernelspec": {
   "display_name": "Python 3",
   "language": "python",
   "name": "python3"
  },
  "language_info": {
   "codemirror_mode": {
    "name": "ipython",
    "version": 3
   },
   "file_extension": ".py",
   "mimetype": "text/x-python",
   "name": "python",
   "nbconvert_exporter": "python",
   "pygments_lexer": "ipython3",
   "version": "3.8.1"
  }
 },
 "nbformat": 4,
 "nbformat_minor": 4
}
